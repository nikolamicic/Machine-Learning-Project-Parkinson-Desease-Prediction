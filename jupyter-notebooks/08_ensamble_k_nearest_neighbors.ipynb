{
 "cells": [
  {
   "cell_type": "code",
   "execution_count": 1,
   "id": "57954648",
   "metadata": {},
   "outputs": [],
   "source": [
    "# import required libraries\n",
    "import pandas as pd\n",
    "from sklearn.model_selection import train_test_split\n",
    "from sklearn.preprocessing import StandardScaler\n",
    "from sklearn.neighbors import KNeighborsClassifier\n",
    "from sklearn.metrics import accuracy_score, classification_report, confusion_matrix\n",
    "from sklearn import ensemble\n",
    "from imblearn.over_sampling import RandomOverSampler"
   ]
  },
  {
   "cell_type": "code",
   "execution_count": 2,
   "id": "a551d0e7",
   "metadata": {},
   "outputs": [],
   "source": [
    "# load dataset\n",
    "data = pd.read_csv('parkinsons.data')"
   ]
  },
  {
   "cell_type": "code",
   "execution_count": 3,
   "id": "c020b25d",
   "metadata": {},
   "outputs": [],
   "source": [
    "# dataset info\n",
    "#data.info()\n",
    "data.head()"
   ]
  },
  {
   "cell_type": "code",
   "execution_count": 4,
   "id": "dd01230f",
   "metadata": {},
   "outputs": [],
   "source": [
    "data.describe()"
   ]
  },
  {
   "cell_type": "code",
   "execution_count": 5,
   "id": "4f213b8b",
   "metadata": {},
   "outputs": [],
   "source": [
    "data.info()"
   ]
  },
  {
   "cell_type": "code",
   "execution_count": 6,
   "id": "58bcf33f",
   "metadata": {},
   "outputs": [],
   "source": [
    "# split dataset \n",
    "\n",
    "X = data.drop(['name','status'],axis=1)\n",
    "y = data['status']\n",
    "\n",
    "X_train_val, X_test, y_train_val, y_test = train_test_split(X, y, test_size=0.2, random_state=7, stratify=y)\n",
    "X_train, X_val, y_train, y_val = train_test_split(X_train_val, y_train_val, test_size=0.25, random_state=7,stratify=y_train_val)"
   ]
  },
  {
   "cell_type": "code",
   "execution_count": null,
   "id": "e1370624",
   "metadata": {},
   "outputs": [],
   "source": []
  },
  {
   "cell_type": "code",
   "execution_count": 7,
   "id": "48c0c9b9",
   "metadata": {},
   "outputs": [],
   "source": [
    "scaler = StandardScaler()\n",
    "\n",
    "X_train_val = scaler.fit_transform(X_train_val)\n",
    "X_train = scaler.transform(X_train)\n",
    "X_test = scaler.transform(X_test)\n",
    "X_val = scaler.transform(X_val)"
   ]
  },
  {
   "cell_type": "code",
   "execution_count": 8,
   "id": "118ca868",
   "metadata": {},
   "outputs": [],
   "source": [
    "# ensamble of KNeighborsClassifier model\n",
    "\n",
    "# Base estimator is used from previous script where we found out that \n",
    "# best KNeighborsClassifier hyperparameters are: n_neighbors=3, weights=uniform, metric=minkowski\n",
    "base_estimator = KNeighborsClassifier(n_neighbors=3,metric='minkowski', weights='uniform')  \n",
    "\n",
    "n_estimators= [5,10, 50, 100, 200]\n",
    "max_samples= [0.5, 0.7, 0.9, 1.0]\n",
    "max_features= [0.5, 0.7, 0.9, 1.0]\n",
    "bootst = False\n",
    "\n",
    "best_accuracy = 0\n",
    "best_model = None\n",
    "best_n_estimators = None\n",
    "best_max_samples = None\n",
    "best_max_features = None\n",
    "best_bootstrap = None\n",
    "best_boot_feat = None\n",
    "\n",
    "for n_est in n_estimators:\n",
    "    for sample in max_samples:\n",
    "        for feat in max_features:\n",
    "            \n",
    "            model_ensamble_knn = ensemble.BaggingClassifier(estimator=base_estimator\n",
    "                                                                ,n_estimators=n_est\n",
    "                                                                ,max_samples=sample\n",
    "                                                                ,max_features = feat)\n",
    "            model_ensamble_knn.fit(X_train, y_train)\n",
    "            accuracy = model_ensamble_knn.score(X_val, y_val)\n",
    "\n",
    "            if accuracy > best_accuracy:\n",
    "                best_accuracy = accuracy\n",
    "                best_model = model_ensamble_knn\n",
    "                best_n_estimators = n_est\n",
    "                best_max_samples = sample\n",
    "                best_max_features = feat\n",
    "\n",
    "print(f\"Najbolji model: n_estimators={best_n_estimators}, max_samples={best_max_samples}, max_features={best_max_features}, Accuracy={best_accuracy}\")\n"
   ]
  },
  {
   "cell_type": "code",
   "execution_count": 9,
   "id": "75cf63c7",
   "metadata": {},
   "outputs": [],
   "source": [
    "# Refiting model with both train and validation data\n",
    "\n",
    "best_model.fit(X_train_val,y_train_val)"
   ]
  },
  {
   "cell_type": "code",
   "execution_count": 10,
   "id": "6d00d4a4",
   "metadata": {},
   "outputs": [],
   "source": [
    "# evaluation of ensamble \n",
    "y_predicted = best_model.predict(X_test)\n",
    "\n",
    "acc = accuracy_score(y_test, y_predicted)\n",
    "conf_mat = confusion_matrix(y_test, y_predicted)\n",
    "class_report = classification_report(y_test,y_predicted)\n",
    "print(f\"Accuracy: {acc:.2f}\")\n",
    "print(\"Confusion matrix: \", conf_mat)\n",
    "print(\"Classification report: \", class_report)"
   ]
  },
  {
   "cell_type": "code",
   "execution_count": null,
   "id": "4631356b",
   "metadata": {},
   "outputs": [],
   "source": []
  },
  {
   "cell_type": "code",
   "execution_count": null,
   "id": "d279abd1",
   "metadata": {},
   "outputs": [],
   "source": []
  },
  {
   "cell_type": "code",
   "execution_count": null,
   "id": "0471abbb",
   "metadata": {},
   "outputs": [],
   "source": []
  },
  {
   "cell_type": "code",
   "execution_count": null,
   "id": "a5699804",
   "metadata": {},
   "outputs": [],
   "source": []
  },
  {
   "cell_type": "code",
   "execution_count": null,
   "id": "19462e69",
   "metadata": {},
   "outputs": [],
   "source": []
  },
  {
   "cell_type": "code",
   "execution_count": 11,
   "id": "2dc4c1d8",
   "metadata": {},
   "outputs": [],
   "source": [
    "# Save model\n",
    "import pickle\n",
    "\n",
    "with open('../models/ensamble_k_neighbors_classifier.model.pickle', 'wb') as model_file:\n",
    "    pickle.dump(best_model, model_file)\n",
    "    \n",
    "with open('../models/ensamble_k_neighbors_classifier.scaler.pickle', 'wb') as model_file:\n",
    "    pickle.dump(scaler, model_file)"
   ]
  },
  {
   "cell_type": "code",
   "execution_count": null,
   "id": "d168828e",
   "metadata": {},
   "outputs": [],
   "source": []
  }
 ],
 "metadata": {
  "kernelspec": {
   "display_name": "Python 3 (ipykernel)",
   "language": "python",
   "name": "python3"
  },
  "language_info": {
   "codemirror_mode": {
    "name": "ipython",
    "version": 3
   },
   "file_extension": ".py",
   "mimetype": "text/x-python",
   "name": "python",
   "nbconvert_exporter": "python",
   "pygments_lexer": "ipython3",
   "version": "3.10.9"
  }
 },
 "nbformat": 4,
 "nbformat_minor": 5
}
